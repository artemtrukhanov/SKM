{
 "cells": [
  {
   "cell_type": "markdown",
   "metadata": {},
   "source": [
    "# Вариант 12\n",
    "\n",
    "Задача состоит в том, чтобы смоделировать полет камня и рассмотреть следующие события:\n",
    "   1. камень упал на землю, не долетев до окна (либо до, либо после стены);\n",
    "   2. камень не попал в бойницу (ударился о стену);\n",
    "   3. камень застрял в бойнице (стукнулся о <<пол>> или <<потолок>> бойницы и упал внутри нее); \n",
    "   4. камень стукнулся о  стену замка (не попав в окно);\n",
    "   5. камень попал в окно \n",
    "      (для простоты считаем, что и крепостная стена, и замок очень высокие\n",
    "      и сверху через них камень перебросить нельзя).\n",
    "      \n",
    "Необходимо написать функцию, на вход которой подаются:\n",
    "  * параметры:\n",
    "    масса камня,\n",
    "    расстояние от Робин Гуда до стены,\n",
    "    толщину стены (равную длине бойницы),\n",
    "    расстояние от земли до бойницы и высоту бойницы,\n",
    "    расстояние от стены до замка,\n",
    "    расстояние от земли до окна и высоту окна,\n",
    "\n",
    "  * начальные условия:\n",
    "    угол броска и начальную скорость камня.\n",
    "\n",
    "Программа должна отображать «вид сбоку» и траекторию полета."
   ]
  },
  {
   "cell_type": "markdown",
   "metadata": {},
   "source": [
    "v0 - вектор начальной скорости. Разложим этот вектор по базису: v0 = v0x*i+v0x*j. Здесь v0x = v0*cos(alpha),\n",
    "v0y = v0*sin(alpha).\n",
    "Согласно второму закону Ньютона:\n",
    "$$\n",
    " a = \\frac{F}{m}\\\\\n",
    "$$\n",
    "Ускорение в каждый момент времени есть (мгновенная) скорость изменения скорости, то есть производная от скорости по времени. \n",
    "Следовательно, 2-й закон Ньютона можно переписать в следующем виде:\n",
    "$$\n",
    "m*\\frac{dv}{dt} = F\\\\\n",
    "$$\n",
    "то есть:\n",
    "$$\n",
    "m*\\frac{dv}{dt} = mg\\\\\n",
    "\\frac{dv}{dt} = g\\\\\n",
    "$$\n",
    "Из этого следует, что\n",
    "$$\n",
    " v = v0+gt (Равноускоренное движение)\n",
    "$$\n",
    "Так как \n",
    "$$\n",
    "\\frac{dr}{dt} = v\\\\ (r - радиус-вектор)\n",
    "$$\n",
    "$$\n",
    "\\frac{dr}{dt} = v0+gt\\\\\n",
    "$$\n",
    "Отсюда\n",
    "$$\n",
    " r = r0+v0t+\\frac{gt^{2}}{2}\\\\\n",
    "$$\n",
    "Учитывая, что v0={v0*cos\\alpha, v0*sin(alpha)} и вектор ускорения свободного падения g имеет координаты {0,-g}, скалярные равенства:\n",
    "$$\n",
    "\\left\\{\n",
    "\\begin{array}{l}\n",
    "    x = v0*cos\\alpha *t\\\\\n",
    "    y = v0*sin\\alpha *t -\\frac{g*t^{2}}{m} \\\\\n",
    "\\end{array}\n",
    "\\right.\n",
    "$$"
   ]
  },
  {
   "cell_type": "code",
   "execution_count": 15,
   "metadata": {},
   "outputs": [
    {
     "data": {
      "text/plain": [
       "<Figure size 1152x864 with 0 Axes>"
      ]
     },
     "metadata": {},
     "output_type": "display_data"
    },
    {
     "data": {
      "image/png": "[encoded data removed]",
      "text/plain": [
       "<Figure size 432x288 with 1 Axes>"
      ]
     },
     "metadata": {
      "needs_background": "light"
     },
     "output_type": "display_data"
    },
    {
     "name": "stdout",
     "output_type": "stream",
     "text": [
      "Попал\n"
     ]
    }
   ],
   "source": [
    "from matplotlib import pyplot as plt\n",
    "%matplotlib inline\n",
    "import numpy as np\n",
    "from math import sin, cos, pi, sqrt;\n",
    "import matplotlib.patches as patches\n",
    "\n",
    "\n",
    "g = 9.8  # вектор свободного падения\n",
    "# координаты броска\n",
    "x0 = 0\n",
    "y0 = 2 \n",
    "v0 = 16 # скорость\n",
    "alpha = 73 # угол\n",
    "h1 = 8  # расстояние до стены\n",
    "w1 = 1  # ширина стены\n",
    "wh = 12 # wall height высота низа бойницы\n",
    "boinica = 3  # высота бойницы\n",
    "h2 = 3  # расстояние от стены до замка\n",
    "ch = 8  # castle height высота окна замка\n",
    "w2 = 1 # ширина стены замка(лишь для построения рисунка)\n",
    "window = 2   # высота окна\n",
    "# вычисление координаты х\n",
    "def x_coord(t, x0, v0_x):\n",
    "    return x0 + v0_x * t\n",
    "# вычисление координаты у\n",
    "def y_coord(t, y0, v0_y):\n",
    "    return y0 + v0_y * t - g * t ** 2 / 2\n",
    "def t_x(x, x0, v0_x):\n",
    "    return (x - x0) / v0_x\n",
    "def t_y(y, y0, v0_y):\n",
    "    return (v0_y - sqrt(v0_y**2 + 2 * g * (y0 - y))) / g, (v0_y + sqrt(v0_y**2 + 2 * g * (y0 - y))) / g\n",
    "def t_y_max(v0_y):\n",
    "    return v0_y / g\n",
    "\n",
    "def model(x0, y0, v0, alpha, \n",
    "         h1, w1, wh, boinica, \n",
    "         h2, ch, w2, window ):\n",
    "    # координаты стен\n",
    "    wall_end = h1 + w1\n",
    "    castle_dist = wall_end + h2\n",
    "    castle_end = castle_dist + w2\n",
    "    wall_win_top = wh + boinica\n",
    "    castle_win_top = ch + window\n",
    "    # угол в радианы и нахождение проекций начальной скорости\n",
    "    angle = pi * alpha / 180\n",
    "    v0x = v0 * cos(angle)\n",
    "    v0y = v0 * sin(angle)\n",
    "    # координата у при достижении стены\n",
    "    tx = t_x(h1, x0, v0x)\n",
    "    x_in_wall = x_coord(tx, x0, v0x)\n",
    "    y_in_wall = y_coord(tx, y0, v0y)\n",
    "    tx = t_x(wall_end, x0, v0x)\n",
    "    x_out_wall = x_coord(tx, x0, v0x)\n",
    "    y_out_wall = y_coord(tx, y0, v0y)\n",
    "    tx = t_x(castle_dist, x0, v0x)\n",
    "    x_in_castle = x_coord(tx, x0, v0x)\n",
    "    y_in_castle = y_coord(tx, y0, v0y)\n",
    "    tm = t_y_max(v0y)\n",
    "    x_max = x_coord(tm, x0, v0x)\n",
    "    y_max = y_coord(tm, y0, v0y)\n",
    "\n",
    "    \n",
    "    wall_bottom = patches.Rectangle((h1, 0),\n",
    "                                w1, wh,\n",
    "                                edgecolor='black', facecolor='black')\n",
    "    wall_top = patches.Rectangle((h1, wh+boinica),\n",
    "                             w1, wh,\n",
    "                             linewidth=3, edgecolor='black', facecolor='black')\n",
    "    castle_bottom = patches.Rectangle((h1+w1+h2, 0),\n",
    "                                  w2, ch,\n",
    "                                  edgecolor='black', facecolor='black')\n",
    "    castle_top = patches.Rectangle((h1+w1+h2, ch+window),\n",
    "                               w2, wh,\n",
    "                               edgecolor='black', facecolor='black')\n",
    "    fig = plt.figure(figsize=(16, 12))\n",
    "    _, ax = plt.subplots()\n",
    "    ax.add_patch(wall_bottom)\n",
    "    ax.add_patch(wall_top)\n",
    "    ax.add_patch(castle_bottom)\n",
    "    ax.add_patch(castle_top)\n",
    "    hit = True # попадание\n",
    "    # полетел ниже бойницы\n",
    "    if y_in_wall < wh: \n",
    "        ty = t_y(0, y0, v0y)[1]\n",
    "        # не долетел до стены\n",
    "        if x_coord(ty, x0, v0x) < h1:\n",
    "            ts = np.linspace(0, ty, 500)\n",
    "            # долетел, но не попал\n",
    "        else:\n",
    "            ts = np.linspace(0, t_x(h1, x0, v0x), 500)\n",
    "        hit = False\n",
    "         # полетел выше бойницы\n",
    "    elif y_in_wall > wall_win_top: \n",
    "        ts = np.linspace(0, t_x(h1, x0, v0x), 500)\n",
    "        hit = False\n",
    "        # ударился о низ бойницы\n",
    "    elif y_out_wall < wh: \n",
    "        ts = np.linspace(0, t_x(h1, x0, v0x), 500)\n",
    "        hit = False\n",
    "        # ударился о верх бойницы\n",
    "    elif y_out_wall > wall_win_top: \n",
    "        ts = np.linspace(0, t_x(h1, x0, v0x), 500)\n",
    "        hit = False\n",
    "        # полетел ниже окна замка\n",
    "    elif y_in_castle < ch: \n",
    "        ts = np.linspace(0, t_x(castle_dist, x0, v0x), 500)\n",
    "        hit = False\n",
    "        # полетел выше окна замка\n",
    "    elif y_in_castle > castle_win_top: \n",
    "        ty = t_y(0, y0, v0y)[1]\n",
    "        if x_coord(ty, x0, v0x) < castle_dist:\n",
    "            ts = np.linspace(0, ty, 500)\n",
    "        else:\n",
    "            ts = np.linspace(0, t_x(castle_dist, x0, v0x), 500)\n",
    "        hit = False\n",
    "        # по траектории пролетал бойницу, но задел в ней потолок\n",
    "    elif (y_in_wall > wh and y_in_wall < wall_win_top and\n",
    "        y_out_wall > wh and y_out_wall < wall_win_top and\n",
    "        x_max > h1 and x_max < wall_end and\n",
    "        y_max > wall_win_top):\n",
    "        ts = np.linspace(0, t_x(wall_end, x0, v0x), 500)\n",
    "        hit = False\n",
    "        # попал в окно замка\n",
    "    else:\n",
    "        ts = np.linspace(0, t_x(castle_end, x0, v0x), 500)\n",
    "# ts - интервал времени от броска до попадания куда-либо\n",
    "    # вычисление траектории полета\n",
    "    x_coords = [x_coord(t, x0, v0x) for t in ts]\n",
    "    y_coords = [y_coord(t, y0, v0y) for t in ts]\n",
    "    # построение траектории\n",
    "    ax.plot(x_coords, y_coords, color=(0,0,0))\n",
    "    plt.show()\n",
    "    return hit\n",
    "    \n",
    "st = model(x0, y0, v0, alpha, \n",
    "         h1, w1, wh, boinica, \n",
    "         h2, ch, w2, window)\n",
    "\n",
    "if st:\n",
    "    print(\"Попал\")\n",
    "else:\n",
    "    print(\"Промах\")"
   ]
  },
  {
   "cell_type": "markdown",
   "metadata": {},
   "source": [
    "## Камень не долетел до стены"
   ]
  },
  {
   "cell_type": "code",
   "execution_count": 16,
   "metadata": {},
   "outputs": [
    {
     "data": {
      "text/plain": [
       "<Figure size 1152x864 with 0 Axes>"
      ]
     },
     "metadata": {},
     "output_type": "display_data"
    },
    {
     "data": {
      "image/png": "[encoded data removed]",
      "text/plain": [
       "<Figure size 432x288 with 1 Axes>"
      ]
     },
     "metadata": {
      "needs_background": "light"
     },
     "output_type": "display_data"
    },
    {
     "name": "stdout",
     "output_type": "stream",
     "text": [
      "fail\n"
     ]
    }
   ],
   "source": [
    "v0 = 10\n",
    "alpha = 80\n",
    "st = model(x0, y0, v0, alpha, \n",
    "         h1, w1, wh, boinica, \n",
    "         h2, ch, w2, window)\n",
    "\n",
    "if st:\n",
    "    print(\"hit\")\n",
    "else:\n",
    "    print(\"fail\")"
   ]
  },
  {
   "cell_type": "markdown",
   "metadata": {},
   "source": [
    "## Камень не попал в бойницу, ударившись о стену:"
   ]
  },
  {
   "cell_type": "code",
   "execution_count": 17,
   "metadata": {},
   "outputs": [
    {
     "data": {
      "text/plain": [
       "<Figure size 1152x864 with 0 Axes>"
      ]
     },
     "metadata": {},
     "output_type": "display_data"
    },
    {
     "data": {
      "image/png": "[encoded data removed]",
      "text/plain": [
       "<Figure size 432x288 with 1 Axes>"
      ]
     },
     "metadata": {
      "needs_background": "light"
     },
     "output_type": "display_data"
    }
   ],
   "source": [
    "v0 = 16\n",
    "alpha = 60    \n",
    "h1 = 8\n",
    "st = model(x0, y0, v0, alpha, \n",
    "         h1, w1, wh, boinica, \n",
    "         h2, ch, w2, window)"
   ]
  },
  {
   "cell_type": "markdown",
   "metadata": {},
   "source": [
    "## Камень пролетел бойницу, но попал ниже окна"
   ]
  },
  {
   "cell_type": "code",
   "execution_count": 18,
   "metadata": {},
   "outputs": [
    {
     "data": {
      "text/plain": [
       "<Figure size 1152x864 with 0 Axes>"
      ]
     },
     "metadata": {},
     "output_type": "display_data"
    },
    {
     "data": {
      "image/png": "[encoded data removed]",
      "text/plain": [
       "<Figure size 432x288 with 1 Axes>"
      ]
     },
     "metadata": {
      "needs_background": "light"
     },
     "output_type": "display_data"
    }
   ],
   "source": [
    "v0 = 16\n",
    "alpha = 75\n",
    "st = model(x0, y0, v0, alpha, \n",
    "         h1, w1, wh, boinica, \n",
    "         h2, ch, w2, window)\n"
   ]
  },
  {
   "cell_type": "markdown",
   "metadata": {},
   "source": [
    "## Камень пролетел над окном"
   ]
  },
  {
   "cell_type": "code",
   "execution_count": 19,
   "metadata": {},
   "outputs": [
    {
     "data": {
      "text/plain": [
       "<Figure size 1152x864 with 0 Axes>"
      ]
     },
     "metadata": {},
     "output_type": "display_data"
    },
    {
     "data": {
      "image/png": "[encoded data removed]",
      "text/plain": [
       "<Figure size 432x288 with 1 Axes>"
      ]
     },
     "metadata": {
      "needs_background": "light"
     },
     "output_type": "display_data"
    }
   ],
   "source": [
    "v0 = 20\n",
    "alpha = 60\n",
    "st = model(x0, y0, v0, alpha, \n",
    "         h1, w1, wh, boinica, \n",
    "         h2, ch, w2, window)"
   ]
  },
  {
   "cell_type": "markdown",
   "metadata": {},
   "source": [
    "# Вывод\n",
    "Таким образом, меняя только угол броска и скорость бросания камня можно получить разные результаты траектории полета."
   ]
  }
 ],
 "metadata": {
  "kernelspec": {
   "display_name": "Python 3",
   "language": "python",
   "name": "python3"
  },
  "language_info": {
   "codemirror_mode": {
    "name": "ipython",
    "version": 3
   },
   "file_extension": ".py",
   "mimetype": "text/x-python",
   "name": "python",
   "nbconvert_exporter": "python",
   "pygments_lexer": "ipython3",
   "version": "3.7.6"
  }
 },
 "nbformat": 4,
 "nbformat_minor": 4
}
